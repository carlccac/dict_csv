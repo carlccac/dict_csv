{
 "cells": [
  {
   "cell_type": "code",
   "execution_count": 8,
   "metadata": {},
   "outputs": [
    {
     "name": "stdout",
     "output_type": "stream",
     "text": [
      "[('15025', 1881), ('15026', 12), ('15144', 1310), ('152206246', 25)]\n",
      "[('15025', 56), ('15026', 8), ('15144', 58), ('152206246', 2)]\n",
      "\n",
      "\n",
      "avg release amt.  3550.763513332444\n",
      "\n",
      "\n",
      "{1987.0: 742, 1988.0: 678, 1989.0: 924, 1990.0: 965, 1991.0: 557, 1992.0: 497, 1993.0: 504, 1994.0: 458, 1995.0: 481, 1996.0: 457, 1997.0: 444, 1998.0: 461, 1999.0: 410, 2000.0: 426, 2001.0: 429, 2002.0: 414, 2003.0: 411, 2004.0: 399, 2005.0: 389, 2006.0: 366, 2007.0: 365, 2008.0: 374, 2009.0: 336, 2010.0: 346, 2011.0: 358, 2012.0: 358, 2013.0: 376, 2014.0: 374, 2015.0: 367, 2016.0: 345, 2017.0: 307, 2018.0: 311, 2019.0: 297}\n"
     ]
    },
    {
     "data": {
      "image/png": "[encoded data removed]",
      "text/plain": [
       "<Figure size 432x288 with 1 Axes>"
      ]
     },
     "metadata": {
      "needs_background": "light"
     },
     "output_type": "display_data"
    },
    {
     "data": {
      "image/png": "[encoded data removed]",
      "text/plain": [
       "<Figure size 432x288 with 1 Axes>"
      ]
     },
     "metadata": {
      "needs_background": "light"
     },
     "output_type": "display_data"
    }
   ],
   "source": [
    "from csv import reader\n",
    "import copy\n",
    "import matplotlib.pyplot as plot\n",
    "\n",
    "def opn_csv(x):\n",
    "    with open(x, 'r') as f:\n",
    "        a = reader(f)\n",
    "        b = list(a)\n",
    "        return b\n",
    "    \n",
    "def cd(x): #column dictionary from column names\n",
    "    a = x[0]\n",
    "    b = []\n",
    "    for i in range(len(x[0])):\n",
    "        c = []\n",
    "        for j in range(1, len(x)):\n",
    "            c.append(x[j][i])\n",
    "        b.append(c)\n",
    "    return dict(zip(a,b))\n",
    "\n",
    "def ky(x, y): #key operator, groups y according to unique values of x\n",
    "    a = list(set(x))\n",
    "    b = []\n",
    "    for i in range(len(a)):\n",
    "        c = []\n",
    "        for j in range(len(x)):\n",
    "            if a[i] == x[j]:\n",
    "                c.append(y[j])\n",
    "        b.append(c)\n",
    "    return dict(zip(a, b))\n",
    "\n",
    "def mp(x, y): #map function over dictionary values\n",
    "    a = copy.deepcopy(x)\n",
    "    for i in a:\n",
    "        a[i] = y(a[i])\n",
    "    return a\n",
    "\n",
    "def nu(x): #number unique items\n",
    "    return len(set(x))\n",
    "\n",
    "def inn(x):\n",
    "    a = ['.','0','1','2','3','4','5','6','7','8','9']\n",
    "    b = True\n",
    "    for i in range(len(x)):\n",
    "            b = b and (x[i] in a)\n",
    "    return b\n",
    "\n",
    "def tf(x):\n",
    "    for i in range(len(x)):\n",
    "        if inn(x[i]):\n",
    "            x[i] = float(x[i])\n",
    "        else:\n",
    "            x[i] = 0.0\n",
    "    return x\n",
    "\n",
    "def main():\n",
    "    a = cd(opn_csv('tri_water.csv'))\n",
    "    \n",
    "    ky_zip_chem = ky(a['ZIP_CODE'], a['CHEM_NAME'])\n",
    "    \n",
    "    num_incidences = mp(ky_zip_chem, len)\n",
    "    num_unique_chems = mp(ky_zip_chem, nu)\n",
    "    \n",
    "    print(list(num_incidences.items())[:4])\n",
    "    print(list(num_unique_chems.items())[:4])\n",
    "    print('\\n')\n",
    "    \n",
    "    plot.figure(1)\n",
    "    plot.scatter(num_incidences.values(), num_unique_chems.values(), s = 3)\n",
    "    plot.title('num_incidences vs. num_unique_chems')\n",
    "    \n",
    "    tf(a['REPORTING_YEAR'])\n",
    "    num_incidences_yr = mp(ky(a['REPORTING_YEAR'], a['REPORTING_YEAR']), len)\n",
    "    \n",
    "    plot.figure(2)\n",
    "    plot.scatter(num_incidences_yr.keys(), num_incidences_yr.values(), s = 3)\n",
    "    plot.title('num_incidences per year')\n",
    "    \n",
    "    print('avg release amt. ', sum(tf(a['REL_EST_AMT'])) / len(a['REL_EST_AMT']))\n",
    "    print('\\n')\n",
    "    \n",
    "    print(num_incidences_yr)\n",
    "    \n",
    "    \n",
    "if __name__ == \"__main__\":\n",
    "    main()\n",
    "    "
   ]
  },
  {
   "cell_type": "code",
   "execution_count": null,
   "metadata": {},
   "outputs": [],
   "source": []
  }
 ],
 "metadata": {
  "kernelspec": {
   "display_name": "Python 3",
   "language": "python",
   "name": "python3"
  },
  "language_info": {
   "codemirror_mode": {
    "name": "ipython",
    "version": 3
   },
   "file_extension": ".py",
   "mimetype": "text/x-python",
   "name": "python",
   "nbconvert_exporter": "python",
   "pygments_lexer": "ipython3",
   "version": "3.8.3"
  }
 },
 "nbformat": 4,
 "nbformat_minor": 4
}
